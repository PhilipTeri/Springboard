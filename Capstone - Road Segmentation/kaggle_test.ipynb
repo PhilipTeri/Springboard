{
 "cells": [
  {
   "cell_type": "code",
   "execution_count": 1,
   "id": "11440410",
   "metadata": {},
   "outputs": [],
   "source": [
    "# https://www.kaggle.com/vbookshelf/simple-cell-segmentation-with-keras-and-u-net"
   ]
  },
  {
   "cell_type": "code",
   "execution_count": 39,
   "id": "a0b9d614",
   "metadata": {},
   "outputs": [],
   "source": [
    "import pandas as pd\n",
    "import numpy as np\n",
    "import os\n",
    "import sys\n",
    "import random\n",
    "\n",
    "import matplotlib.pyplot as plt\n",
    "%matplotlib inline\n",
    "\n",
    "\n",
    "from tqdm import tqdm\n",
    "\n",
    "from skimage.io import imread, imshow\n",
    "from skimage.transform import resize\n",
    "\n",
    "# Don't Show Warning Messages\n",
    "import warnings\n",
    "warnings.filterwarnings('ignore')"
   ]
  },
  {
   "cell_type": "code",
   "execution_count": null,
   "id": "8c8409f9",
   "metadata": {},
   "outputs": [],
   "source": []
  },
  {
   "cell_type": "code",
   "execution_count": 48,
   "id": "c925c844",
   "metadata": {},
   "outputs": [],
   "source": [
    "# Set some parameters\n",
    "IMG_HEIGHT = 128\n",
    "IMG_WIDTH = 128\n",
    "IMG_CHANNELS = 3\n",
    "\n",
    "NUM_TEST_IMAGES = 10"
   ]
  },
  {
   "cell_type": "code",
   "execution_count": 49,
   "id": "7f4c06bc",
   "metadata": {},
   "outputs": [
    {
     "data": {
      "text/html": [
       "<div>\n",
       "<style scoped>\n",
       "    .dataframe tbody tr th:only-of-type {\n",
       "        vertical-align: middle;\n",
       "    }\n",
       "\n",
       "    .dataframe tbody tr th {\n",
       "        vertical-align: top;\n",
       "    }\n",
       "\n",
       "    .dataframe thead th {\n",
       "        text-align: right;\n",
       "    }\n",
       "</style>\n",
       "<table border=\"1\" class=\"dataframe\">\n",
       "  <thead>\n",
       "    <tr style=\"text-align: right;\">\n",
       "      <th></th>\n",
       "      <th>image_id</th>\n",
       "      <th>has_mask</th>\n",
       "    </tr>\n",
       "  </thead>\n",
       "  <tbody>\n",
       "    <tr>\n",
       "      <th>0</th>\n",
       "      <td>img-1000Cropped.png</td>\n",
       "      <td>yes</td>\n",
       "    </tr>\n",
       "    <tr>\n",
       "      <th>1</th>\n",
       "      <td>img-1001Cropped.png</td>\n",
       "      <td>no</td>\n",
       "    </tr>\n",
       "    <tr>\n",
       "      <th>2</th>\n",
       "      <td>img-1002Cropped.png</td>\n",
       "      <td>yes</td>\n",
       "    </tr>\n",
       "    <tr>\n",
       "      <th>3</th>\n",
       "      <td>img-1004Cropped.png</td>\n",
       "      <td>yes</td>\n",
       "    </tr>\n",
       "    <tr>\n",
       "      <th>4</th>\n",
       "      <td>img-1005Cropped.png</td>\n",
       "      <td>yes</td>\n",
       "    </tr>\n",
       "  </tbody>\n",
       "</table>\n",
       "</div>"
      ],
      "text/plain": [
       "              image_id has_mask\n",
       "0  img-1000Cropped.png      yes\n",
       "1  img-1001Cropped.png       no\n",
       "2  img-1002Cropped.png      yes\n",
       "3  img-1004Cropped.png      yes\n",
       "4  img-1005Cropped.png      yes"
      ]
     },
     "execution_count": 49,
     "metadata": {},
     "output_type": "execute_result"
    }
   ],
   "source": [
    "# get a list of files in each folder\n",
    "\n",
    "img_list = os.listdir('C:/Users/Phil/Desktop/Roads DataSet/road_segmentation_ideal/training/input')\n",
    "mask_list = os.listdir('C:/Users/Phil/Desktop/Roads DataSet/road_segmentation_ideal/training/output')\n",
    "\n",
    "# create a dataframe\n",
    "df_images = pd.DataFrame(img_list, columns=['image_id'])\n",
    "\n",
    "# filter out the non image file that's called .htaccess\n",
    "df_images = df_images[df_images['image_id'] != '.htaccess']\n",
    "\n",
    "\n",
    "\n",
    "def check_for_mask(x):\n",
    "    if x in mask_list:\n",
    "        return 'yes'\n",
    "    else:\n",
    "        return 'no'\n",
    "    \n",
    "# create a new column called 'has_mask'\n",
    "df_images['has_mask'] = df_images['image_id'].apply(check_for_mask)\n",
    "\n",
    "\n",
    "df_images.head()\n"
   ]
  },
  {
   "cell_type": "code",
   "execution_count": 50,
   "id": "09546f4c",
   "metadata": {},
   "outputs": [
    {
     "data": {
      "text/plain": [
       "(762, 3)"
      ]
     },
     "execution_count": 50,
     "metadata": {},
     "output_type": "execute_result"
    }
   ],
   "source": [
    "df_masks = df_images[df_images['has_mask'] == 'yes']\n",
    "\n",
    "# create a new column called mask_id that is just a copy of image_id\n",
    "df_masks['mask_id'] = df_masks['image_id']\n",
    "\n",
    "df_masks.shape\n",
    "\n",
    "\n",
    "\n",
    "\n"
   ]
  },
  {
   "cell_type": "code",
   "execution_count": null,
   "id": "7070cd05",
   "metadata": {},
   "outputs": [],
   "source": [
    "\n"
   ]
  },
  {
   "cell_type": "code",
   "execution_count": null,
   "id": "ce2b5d6d",
   "metadata": {},
   "outputs": [],
   "source": []
  },
  {
   "cell_type": "code",
   "execution_count": null,
   "id": "44ab2b7f",
   "metadata": {},
   "outputs": [],
   "source": []
  },
  {
   "cell_type": "code",
   "execution_count": 51,
   "id": "fe58db6f",
   "metadata": {},
   "outputs": [
    {
     "data": {
      "text/html": [
       "<div>\n",
       "<style scoped>\n",
       "    .dataframe tbody tr th:only-of-type {\n",
       "        vertical-align: middle;\n",
       "    }\n",
       "\n",
       "    .dataframe tbody tr th {\n",
       "        vertical-align: top;\n",
       "    }\n",
       "\n",
       "    .dataframe thead th {\n",
       "        text-align: right;\n",
       "    }\n",
       "</style>\n",
       "<table border=\"1\" class=\"dataframe\">\n",
       "  <thead>\n",
       "    <tr style=\"text-align: right;\">\n",
       "      <th></th>\n",
       "      <th>image_id</th>\n",
       "      <th>has_mask</th>\n",
       "      <th>mask_id</th>\n",
       "    </tr>\n",
       "  </thead>\n",
       "  <tbody>\n",
       "    <tr>\n",
       "      <th>0</th>\n",
       "      <td>img-1000Cropped.png</td>\n",
       "      <td>yes</td>\n",
       "      <td>img-1000Cropped.png</td>\n",
       "    </tr>\n",
       "    <tr>\n",
       "      <th>2</th>\n",
       "      <td>img-1002Cropped.png</td>\n",
       "      <td>yes</td>\n",
       "      <td>img-1002Cropped.png</td>\n",
       "    </tr>\n",
       "    <tr>\n",
       "      <th>3</th>\n",
       "      <td>img-1004Cropped.png</td>\n",
       "      <td>yes</td>\n",
       "      <td>img-1004Cropped.png</td>\n",
       "    </tr>\n",
       "    <tr>\n",
       "      <th>4</th>\n",
       "      <td>img-1005Cropped.png</td>\n",
       "      <td>yes</td>\n",
       "      <td>img-1005Cropped.png</td>\n",
       "    </tr>\n",
       "    <tr>\n",
       "      <th>5</th>\n",
       "      <td>img-1006Cropped.png</td>\n",
       "      <td>yes</td>\n",
       "      <td>img-1006Cropped.png</td>\n",
       "    </tr>\n",
       "  </tbody>\n",
       "</table>\n",
       "</div>"
      ],
      "text/plain": [
       "              image_id has_mask              mask_id\n",
       "0  img-1000Cropped.png      yes  img-1000Cropped.png\n",
       "2  img-1002Cropped.png      yes  img-1002Cropped.png\n",
       "3  img-1004Cropped.png      yes  img-1004Cropped.png\n",
       "4  img-1005Cropped.png      yes  img-1005Cropped.png\n",
       "5  img-1006Cropped.png      yes  img-1006Cropped.png"
      ]
     },
     "execution_count": 51,
     "metadata": {},
     "output_type": "execute_result"
    }
   ],
   "source": [
    "df_masks.head()"
   ]
  },
  {
   "cell_type": "code",
   "execution_count": 52,
   "id": "2540fde8",
   "metadata": {},
   "outputs": [
    {
     "name": "stdout",
     "output_type": "stream",
     "text": [
      "(752, 3)\n",
      "(10, 3)\n"
     ]
    }
   ],
   "source": [
    "# create a test set\n",
    "df_test = df_masks.sample(NUM_TEST_IMAGES, random_state=101)\n",
    "\n",
    "# Reset the index.\n",
    "# This is so that we can use loc to access mask id's later.\n",
    "df_test = df_test.reset_index(drop=True)\n",
    "\n",
    "# create a list of test images\n",
    "test_images_list = list(df_test['image_id'])\n",
    "\n",
    "\n",
    "# Select only rows that are not part of the test set.\n",
    "# Note the use of ~ to execute 'not in'.\n",
    "df_masks = df_masks[~df_masks['image_id'].isin(test_images_list)]\n",
    "\n",
    "print(df_masks.shape)\n",
    "print(df_test.shape)"
   ]
  },
  {
   "cell_type": "code",
   "execution_count": null,
   "id": "9bfd60db",
   "metadata": {},
   "outputs": [],
   "source": []
  },
  {
   "cell_type": "code",
   "execution_count": 53,
   "id": "6b81634e",
   "metadata": {},
   "outputs": [],
   "source": [
    "# Get lists of images and their masks.\n",
    "image_id_list = list(df_masks['image_id'])\n",
    "mask_id_list = list(df_masks['mask_id'])\n",
    "test_id_list = list(df_test['image_id'])"
   ]
  },
  {
   "cell_type": "code",
   "execution_count": null,
   "id": "2f1d8949",
   "metadata": {},
   "outputs": [],
   "source": []
  },
  {
   "cell_type": "code",
   "execution_count": 54,
   "id": "d2a5f2ac",
   "metadata": {},
   "outputs": [
    {
     "name": "stdout",
     "output_type": "stream",
     "text": [
      "Getting and resizing train images and masks ... \n"
     ]
    },
    {
     "name": "stderr",
     "output_type": "stream",
     "text": [
      "100%|████████████████████████████████████████████████████████████████████████████████| 752/752 [20:28<00:00,  1.63s/it]\n"
     ]
    }
   ],
   "source": [
    "# Get and resize train images and masks\n",
    "X_train = np.zeros((len(image_id_list), IMG_HEIGHT, IMG_WIDTH, IMG_CHANNELS), dtype=np.uint8)\n",
    "Y_train = np.zeros((len(image_id_list), IMG_HEIGHT, IMG_WIDTH, 1), dtype=np.bool_)\n",
    "X_test = np.zeros((NUM_TEST_IMAGES, IMG_HEIGHT, IMG_WIDTH, IMG_CHANNELS), dtype=np.uint8)\n",
    "\n",
    "\n",
    "print('Getting and resizing train images and masks ... ')\n",
    "sys.stdout.flush()\n",
    "\n",
    "\n",
    "for n, id_ in tqdm(enumerate(image_id_list), total=len(image_id_list)):\n",
    "    img = imread('C:/Users/Phil/Desktop/Roads DataSet/road_segmentation_ideal/training/input/' + id_)[:,:,:IMG_CHANNELS]\n",
    "    img = resize(img, (IMG_HEIGHT, IMG_WIDTH), mode='constant', preserve_range=True)\n",
    "    X_train[n] = img\n",
    "    mask = np.zeros((IMG_HEIGHT, IMG_WIDTH, 1), dtype=np.bool)\n",
    "    \n",
    " \n",
    "    \n",
    "    for mask_file in next(os.walk('C:/Users/Phil/Desktop/Roads DataSet/road_segmentation_ideal/training/output/'))[2]:\n",
    "        mask_ = imread('C:/Users/Phil/Desktop/Roads DataSet/road_segmentation_ideal/training/output/'+ mask_file)\n",
    "        mask_ = np.expand_dims(resize(mask_, (IMG_HEIGHT, IMG_WIDTH), mode='constant', \n",
    "                                      preserve_range=True), axis=-1)\n",
    "        mask = np.maximum(mask, mask_)\n",
    "    Y_train[n] = mask"
   ]
  },
  {
   "cell_type": "code",
   "execution_count": 84,
   "id": "c9c3d953",
   "metadata": {},
   "outputs": [
    {
     "data": {
      "image/png": "[encoded data removed]",
      "text/plain": [
       "<Figure size 432x288 with 1 Axes>"
      ]
     },
     "metadata": {
      "needs_background": "light"
     },
     "output_type": "display_data"
    },
    {
     "data": {
      "image/png": "[encoded data removed]",
      "text/plain": [
       "<Figure size 432x288 with 1 Axes>"
      ]
     },
     "metadata": {
      "needs_background": "light"
     },
     "output_type": "display_data"
    }
   ],
   "source": [
    "# Check if training data looks all right\n",
    "ix = random.randint(0, 700)\n",
    "imshow(X_train[ix])\n",
    "plt.show()\n",
    "imshow(Y_train[ix])\n",
    "plt.show()"
   ]
  },
  {
   "cell_type": "code",
   "execution_count": 82,
   "id": "5e4aab04",
   "metadata": {},
   "outputs": [],
   "source": [
    "from keras.models import Model, load_model\n",
    "from keras.layers import Input\n",
    "from keras.layers.core import Dropout, Lambda\n",
    "from keras.layers.convolutional import Conv2D, Conv2DTranspose\n",
    "from keras.layers.pooling import MaxPooling2D\n",
    "from keras.layers.merge import concatenate\n",
    "from keras.callbacks import EarlyStopping, ModelCheckpoint\n",
    "from keras import backend as K\n",
    "\n",
    "import tensorflow as tf"
   ]
  },
  {
   "cell_type": "code",
   "execution_count": 56,
   "id": "c5e9a3f1",
   "metadata": {},
   "outputs": [],
   "source": [
    "m = tf.keras.metrics.MeanIoU(num_classes=2)"
   ]
  },
  {
   "cell_type": "code",
   "execution_count": 57,
   "id": "1490a878",
   "metadata": {},
   "outputs": [
    {
     "name": "stdout",
     "output_type": "stream",
     "text": [
      "Model: \"functional_1\"\n",
      "__________________________________________________________________________________________________\n",
      "Layer (type)                    Output Shape         Param #     Connected to                     \n",
      "==================================================================================================\n",
      "input_1 (InputLayer)            [(None, 128, 128, 3) 0                                            \n",
      "__________________________________________________________________________________________________\n",
      "lambda (Lambda)                 (None, 128, 128, 3)  0           input_1[0][0]                    \n",
      "__________________________________________________________________________________________________\n",
      "conv2d (Conv2D)                 (None, 128, 128, 16) 448         lambda[0][0]                     \n",
      "__________________________________________________________________________________________________\n",
      "dropout (Dropout)               (None, 128, 128, 16) 0           conv2d[0][0]                     \n",
      "__________________________________________________________________________________________________\n",
      "conv2d_1 (Conv2D)               (None, 128, 128, 16) 2320        dropout[0][0]                    \n",
      "__________________________________________________________________________________________________\n",
      "max_pooling2d (MaxPooling2D)    (None, 64, 64, 16)   0           conv2d_1[0][0]                   \n",
      "__________________________________________________________________________________________________\n",
      "conv2d_2 (Conv2D)               (None, 64, 64, 32)   4640        max_pooling2d[0][0]              \n",
      "__________________________________________________________________________________________________\n",
      "dropout_1 (Dropout)             (None, 64, 64, 32)   0           conv2d_2[0][0]                   \n",
      "__________________________________________________________________________________________________\n",
      "conv2d_3 (Conv2D)               (None, 64, 64, 32)   9248        dropout_1[0][0]                  \n",
      "__________________________________________________________________________________________________\n",
      "max_pooling2d_1 (MaxPooling2D)  (None, 32, 32, 32)   0           conv2d_3[0][0]                   \n",
      "__________________________________________________________________________________________________\n",
      "conv2d_4 (Conv2D)               (None, 32, 32, 64)   18496       max_pooling2d_1[0][0]            \n",
      "__________________________________________________________________________________________________\n",
      "dropout_2 (Dropout)             (None, 32, 32, 64)   0           conv2d_4[0][0]                   \n",
      "__________________________________________________________________________________________________\n",
      "conv2d_5 (Conv2D)               (None, 32, 32, 64)   36928       dropout_2[0][0]                  \n",
      "__________________________________________________________________________________________________\n",
      "max_pooling2d_2 (MaxPooling2D)  (None, 16, 16, 64)   0           conv2d_5[0][0]                   \n",
      "__________________________________________________________________________________________________\n",
      "conv2d_6 (Conv2D)               (None, 16, 16, 128)  73856       max_pooling2d_2[0][0]            \n",
      "__________________________________________________________________________________________________\n",
      "dropout_3 (Dropout)             (None, 16, 16, 128)  0           conv2d_6[0][0]                   \n",
      "__________________________________________________________________________________________________\n",
      "conv2d_7 (Conv2D)               (None, 16, 16, 128)  147584      dropout_3[0][0]                  \n",
      "__________________________________________________________________________________________________\n",
      "max_pooling2d_3 (MaxPooling2D)  (None, 8, 8, 128)    0           conv2d_7[0][0]                   \n",
      "__________________________________________________________________________________________________\n",
      "conv2d_8 (Conv2D)               (None, 8, 8, 256)    295168      max_pooling2d_3[0][0]            \n",
      "__________________________________________________________________________________________________\n",
      "dropout_4 (Dropout)             (None, 8, 8, 256)    0           conv2d_8[0][0]                   \n",
      "__________________________________________________________________________________________________\n",
      "conv2d_9 (Conv2D)               (None, 8, 8, 256)    590080      dropout_4[0][0]                  \n",
      "__________________________________________________________________________________________________\n",
      "conv2d_transpose (Conv2DTranspo (None, 16, 16, 128)  131200      conv2d_9[0][0]                   \n",
      "__________________________________________________________________________________________________\n",
      "concatenate (Concatenate)       (None, 16, 16, 256)  0           conv2d_transpose[0][0]           \n",
      "                                                                 conv2d_7[0][0]                   \n",
      "__________________________________________________________________________________________________\n",
      "conv2d_10 (Conv2D)              (None, 16, 16, 128)  295040      concatenate[0][0]                \n",
      "__________________________________________________________________________________________________\n",
      "dropout_5 (Dropout)             (None, 16, 16, 128)  0           conv2d_10[0][0]                  \n",
      "__________________________________________________________________________________________________\n",
      "conv2d_11 (Conv2D)              (None, 16, 16, 128)  147584      dropout_5[0][0]                  \n",
      "__________________________________________________________________________________________________\n",
      "conv2d_transpose_1 (Conv2DTrans (None, 32, 32, 64)   32832       conv2d_11[0][0]                  \n",
      "__________________________________________________________________________________________________\n",
      "concatenate_1 (Concatenate)     (None, 32, 32, 128)  0           conv2d_transpose_1[0][0]         \n",
      "                                                                 conv2d_5[0][0]                   \n",
      "__________________________________________________________________________________________________\n",
      "conv2d_12 (Conv2D)              (None, 32, 32, 64)   73792       concatenate_1[0][0]              \n",
      "__________________________________________________________________________________________________\n",
      "dropout_6 (Dropout)             (None, 32, 32, 64)   0           conv2d_12[0][0]                  \n",
      "__________________________________________________________________________________________________\n",
      "conv2d_13 (Conv2D)              (None, 32, 32, 64)   36928       dropout_6[0][0]                  \n",
      "__________________________________________________________________________________________________\n",
      "conv2d_transpose_2 (Conv2DTrans (None, 64, 64, 32)   8224        conv2d_13[0][0]                  \n",
      "__________________________________________________________________________________________________\n",
      "concatenate_2 (Concatenate)     (None, 64, 64, 64)   0           conv2d_transpose_2[0][0]         \n",
      "                                                                 conv2d_3[0][0]                   \n",
      "__________________________________________________________________________________________________\n",
      "conv2d_14 (Conv2D)              (None, 64, 64, 32)   18464       concatenate_2[0][0]              \n",
      "__________________________________________________________________________________________________\n",
      "dropout_7 (Dropout)             (None, 64, 64, 32)   0           conv2d_14[0][0]                  \n",
      "__________________________________________________________________________________________________\n",
      "conv2d_15 (Conv2D)              (None, 64, 64, 32)   9248        dropout_7[0][0]                  \n",
      "__________________________________________________________________________________________________\n",
      "conv2d_transpose_3 (Conv2DTrans (None, 128, 128, 16) 2064        conv2d_15[0][0]                  \n",
      "__________________________________________________________________________________________________\n",
      "concatenate_3 (Concatenate)     (None, 128, 128, 32) 0           conv2d_transpose_3[0][0]         \n",
      "                                                                 conv2d_1[0][0]                   \n",
      "__________________________________________________________________________________________________\n",
      "conv2d_16 (Conv2D)              (None, 128, 128, 16) 4624        concatenate_3[0][0]              \n",
      "__________________________________________________________________________________________________\n",
      "dropout_8 (Dropout)             (None, 128, 128, 16) 0           conv2d_16[0][0]                  \n",
      "__________________________________________________________________________________________________\n",
      "conv2d_17 (Conv2D)              (None, 128, 128, 16) 2320        dropout_8[0][0]                  \n",
      "__________________________________________________________________________________________________\n",
      "conv2d_18 (Conv2D)              (None, 128, 128, 1)  17          conv2d_17[0][0]                  \n",
      "==================================================================================================\n",
      "Total params: 1,941,105\n",
      "Trainable params: 1,941,105\n",
      "Non-trainable params: 0\n",
      "__________________________________________________________________________________________________\n"
     ]
    }
   ],
   "source": [
    "# source: https://www.kaggle.com/keegil/keras-u-net-starter-lb-0-277\n",
    "\n",
    "# Build U-Net model\n",
    "inputs = Input((IMG_HEIGHT, IMG_WIDTH, IMG_CHANNELS))\n",
    "s = Lambda(lambda x: x / 255) (inputs)\n",
    "\n",
    "c1 = Conv2D(16, (3, 3), activation='elu', kernel_initializer='he_normal', padding='same') (s)\n",
    "c1 = Dropout(0.1) (c1)\n",
    "c1 = Conv2D(16, (3, 3), activation='elu', kernel_initializer='he_normal', padding='same') (c1)\n",
    "p1 = MaxPooling2D((2, 2)) (c1)\n",
    "\n",
    "c2 = Conv2D(32, (3, 3), activation='elu', kernel_initializer='he_normal', padding='same') (p1)\n",
    "c2 = Dropout(0.1) (c2)\n",
    "c2 = Conv2D(32, (3, 3), activation='elu', kernel_initializer='he_normal', padding='same') (c2)\n",
    "p2 = MaxPooling2D((2, 2)) (c2)\n",
    "\n",
    "c3 = Conv2D(64, (3, 3), activation='elu', kernel_initializer='he_normal', padding='same') (p2)\n",
    "c3 = Dropout(0.2) (c3)\n",
    "c3 = Conv2D(64, (3, 3), activation='elu', kernel_initializer='he_normal', padding='same') (c3)\n",
    "p3 = MaxPooling2D((2, 2)) (c3)\n",
    "\n",
    "c4 = Conv2D(128, (3, 3), activation='elu', kernel_initializer='he_normal', padding='same') (p3)\n",
    "c4 = Dropout(0.2) (c4)\n",
    "c4 = Conv2D(128, (3, 3), activation='elu', kernel_initializer='he_normal', padding='same') (c4)\n",
    "p4 = MaxPooling2D(pool_size=(2, 2)) (c4)\n",
    "\n",
    "c5 = Conv2D(256, (3, 3), activation='elu', kernel_initializer='he_normal', padding='same') (p4)\n",
    "c5 = Dropout(0.3) (c5)\n",
    "c5 = Conv2D(256, (3, 3), activation='elu', kernel_initializer='he_normal', padding='same') (c5)\n",
    "\n",
    "u6 = Conv2DTranspose(128, (2, 2), strides=(2, 2), padding='same') (c5)\n",
    "u6 = concatenate([u6, c4])\n",
    "c6 = Conv2D(128, (3, 3), activation='elu', kernel_initializer='he_normal', padding='same') (u6)\n",
    "c6 = Dropout(0.2) (c6)\n",
    "c6 = Conv2D(128, (3, 3), activation='elu', kernel_initializer='he_normal', padding='same') (c6)\n",
    "\n",
    "u7 = Conv2DTranspose(64, (2, 2), strides=(2, 2), padding='same') (c6)\n",
    "u7 = concatenate([u7, c3])\n",
    "c7 = Conv2D(64, (3, 3), activation='elu', kernel_initializer='he_normal', padding='same') (u7)\n",
    "c7 = Dropout(0.2) (c7)\n",
    "c7 = Conv2D(64, (3, 3), activation='elu', kernel_initializer='he_normal', padding='same') (c7)\n",
    "\n",
    "u8 = Conv2DTranspose(32, (2, 2), strides=(2, 2), padding='same') (c7)\n",
    "u8 = concatenate([u8, c2])\n",
    "c8 = Conv2D(32, (3, 3), activation='elu', kernel_initializer='he_normal', padding='same') (u8)\n",
    "c8 = Dropout(0.1) (c8)\n",
    "c8 = Conv2D(32, (3, 3), activation='elu', kernel_initializer='he_normal', padding='same') (c8)\n",
    "\n",
    "u9 = Conv2DTranspose(16, (2, 2), strides=(2, 2), padding='same') (c8)\n",
    "u9 = concatenate([u9, c1], axis=3)\n",
    "c9 = Conv2D(16, (3, 3), activation='elu', kernel_initializer='he_normal', padding='same') (u9)\n",
    "c9 = Dropout(0.1) (c9)\n",
    "c9 = Conv2D(16, (3, 3), activation='elu', kernel_initializer='he_normal', padding='same') (c9)\n",
    "\n",
    "outputs = Conv2D(1, (1, 1), activation='sigmoid') (c9)\n",
    "\n",
    "model = Model(inputs=[inputs], outputs=[outputs])\n",
    "model.compile(optimizer='adam', loss='binary_crossentropy', metrics=[m])\n",
    "model.summary()"
   ]
  },
  {
   "cell_type": "code",
   "execution_count": 65,
   "id": "fce7b5bd",
   "metadata": {},
   "outputs": [
    {
     "name": "stdout",
     "output_type": "stream",
     "text": [
      "Epoch 1/50\n",
      "1/1 [==============================] - ETA: 0s - loss: 1.0436e-06 - mean_io_u: 0.4992\n",
      "Epoch 00001: val_loss improved from inf to 0.00000, saving model to model.h5\n",
      "1/1 [==============================] - 1s 1s/step - loss: 1.0436e-06 - mean_io_u: 0.4992 - val_loss: 1.4901e-07 - val_mean_io_u: 0.4987\n",
      "Epoch 2/50\n",
      "1/1 [==============================] - ETA: 0s - loss: 1.5784e-06 - mean_io_u: 0.4992\n",
      "Epoch 00002: val_loss improved from 0.00000 to 0.00000, saving model to model.h5\n",
      "1/1 [==============================] - 1s 1s/step - loss: 1.5784e-06 - mean_io_u: 0.4992 - val_loss: 1.4786e-07 - val_mean_io_u: 0.4987\n",
      "Epoch 3/50\n",
      "1/1 [==============================] - ETA: 0s - loss: 8.4635e-07 - mean_io_u: 0.4992\n",
      "Epoch 00003: val_loss improved from 0.00000 to 0.00000, saving model to model.h5\n",
      "1/1 [==============================] - 1s 1s/step - loss: 8.4635e-07 - mean_io_u: 0.4992 - val_loss: 1.4670e-07 - val_mean_io_u: 0.4987\n",
      "Epoch 4/50\n",
      "1/1 [==============================] - ETA: 0s - loss: 8.4623e-07 - mean_io_u: 0.4992\n",
      "Epoch 00004: val_loss improved from 0.00000 to 0.00000, saving model to model.h5\n",
      "1/1 [==============================] - 1s 1s/step - loss: 8.4623e-07 - mean_io_u: 0.4992 - val_loss: 1.4550e-07 - val_mean_io_u: 0.4988\n",
      "Epoch 5/50\n",
      "1/1 [==============================] - ETA: 0s - loss: 1.6872e-06 - mean_io_u: 0.4992\n",
      "Epoch 00005: val_loss improved from 0.00000 to 0.00000, saving model to model.h5\n",
      "1/1 [==============================] - 1s 1s/step - loss: 1.6872e-06 - mean_io_u: 0.4992 - val_loss: 1.4488e-07 - val_mean_io_u: 0.4988\n",
      "Epoch 6/50\n",
      "1/1 [==============================] - ETA: 0s - loss: 1.3084e-06 - mean_io_u: 0.4992\n",
      "Epoch 00006: val_loss improved from 0.00000 to 0.00000, saving model to model.h5\n",
      "1/1 [==============================] - 1s 1s/step - loss: 1.3084e-06 - mean_io_u: 0.4992 - val_loss: 1.4450e-07 - val_mean_io_u: 0.4988\n",
      "Epoch 7/50\n",
      "1/1 [==============================] - ETA: 0s - loss: 1.5012e-06 - mean_io_u: 0.4992\n",
      "Epoch 00007: val_loss did not improve from 0.00000\n",
      "1/1 [==============================] - 1s 1s/step - loss: 1.5012e-06 - mean_io_u: 0.4992 - val_loss: 1.4457e-07 - val_mean_io_u: 0.4988\n",
      "Epoch 8/50\n",
      "1/1 [==============================] - ETA: 0s - loss: 2.3429e-06 - mean_io_u: 0.4992\n",
      "Epoch 00008: val_loss did not improve from 0.00000\n",
      "1/1 [==============================] - 1s 1s/step - loss: 2.3429e-06 - mean_io_u: 0.4992 - val_loss: 1.4549e-07 - val_mean_io_u: 0.4987\n",
      "Epoch 9/50\n",
      "1/1 [==============================] - ETA: 0s - loss: 1.0433e-06 - mean_io_u: 0.4992\n",
      "Epoch 00009: val_loss did not improve from 0.00000\n",
      "1/1 [==============================] - 1s 1s/step - loss: 1.0433e-06 - mean_io_u: 0.4992 - val_loss: 1.4634e-07 - val_mean_io_u: 0.4987\n",
      "Epoch 10/50\n",
      "1/1 [==============================] - ETA: 0s - loss: 1.5799e-06 - mean_io_u: 0.4992\n",
      "Epoch 00010: val_loss did not improve from 0.00000\n",
      "1/1 [==============================] - 1s 992ms/step - loss: 1.5799e-06 - mean_io_u: 0.4992 - val_loss: 1.4762e-07 - val_mean_io_u: 0.4987\n",
      "Epoch 11/50\n",
      "1/1 [==============================] - ETA: 0s - loss: 1.5103e-06 - mean_io_u: 0.4992\n",
      "Epoch 00011: val_loss did not improve from 0.00000\n",
      "1/1 [==============================] - 1s 1s/step - loss: 1.5103e-06 - mean_io_u: 0.4992 - val_loss: 1.4883e-07 - val_mean_io_u: 0.4987\n",
      "Epoch 00011: early stopping\n"
     ]
    }
   ],
   "source": [
    "filepath = \"model.h5\"\n",
    "\n",
    "earlystopper = EarlyStopping(patience=5, verbose=1)\n",
    "\n",
    "checkpoint = ModelCheckpoint(filepath, monitor='val_loss', verbose=1, \n",
    "                             save_best_only=True, mode='min')\n",
    "\n",
    "callbacks_list = [earlystopper, checkpoint]\n",
    "\n",
    "history = model.fit(X_train, Y_train, validation_split=0.1, batch_size=700, epochs=50, \n",
    "                    callbacks=callbacks_list)"
   ]
  },
  {
   "cell_type": "code",
   "execution_count": 66,
   "id": "ac799f10",
   "metadata": {},
   "outputs": [],
   "source": [
    "model.load_weights('model.h5')\n",
    "\n",
    "test_preds = model.predict(X_test)"
   ]
  },
  {
   "cell_type": "code",
   "execution_count": 67,
   "id": "6c6f6986",
   "metadata": {},
   "outputs": [],
   "source": [
    "preds_test_thresh = (test_preds >= 0.5).astype(np.uint8)"
   ]
  },
  {
   "cell_type": "code",
   "execution_count": 68,
   "id": "d20f120e",
   "metadata": {},
   "outputs": [
    {
     "data": {
      "text/plain": [
       "<matplotlib.image.AxesImage at 0x166d0438fc8>"
      ]
     },
     "execution_count": 68,
     "metadata": {},
     "output_type": "execute_result"
    },
    {
     "data": {
      "image/png": "[encoded data removed]",
      "text/plain": [
       "<Figure size 432x288 with 1 Axes>"
      ]
     },
     "metadata": {
      "needs_background": "light"
     },
     "output_type": "display_data"
    }
   ],
   "source": [
    "test_img = preds_test_thresh[5, :, :, 0]\n",
    "\n",
    "plt.imshow(test_img, cmap='gray')"
   ]
  },
  {
   "cell_type": "code",
   "execution_count": 85,
   "id": "7f535714",
   "metadata": {},
   "outputs": [
    {
     "data": {
      "image/png": "[encoded data removed]",
      "text/plain": [
       "<Figure size 720x720 with 9 Axes>"
      ]
     },
     "metadata": {
      "needs_background": "light"
     },
     "output_type": "display_data"
    }
   ],
   "source": [
    "# set up the canvas for the subplots\n",
    "plt.figure(figsize=(10,10))\n",
    "plt.axis('Off')\n",
    "\n",
    "# Our subplot will contain 3 rows and 3 columns\n",
    "# plt.subplot(nrows, ncols, plot_number)\n",
    "\n",
    "\n",
    "# == row 1 ==\n",
    "\n",
    "# image\n",
    "plt.subplot(3,3,1)\n",
    "test_image = X_test[1, :, :, 0]\n",
    "plt.imshow(test_image)\n",
    "plt.title('Test Image', fontsize=14)\n",
    "plt.axis('off')\n",
    "\n",
    "\n",
    "# true mask\n",
    "plt.subplot(3,3,2)\n",
    "mask_id = df_test.loc[1,'mask_id']\n",
    "path_mask = 'C:/Users/Phil/Desktop/Roads DataSet/road_segmentation_ideal/training/output/' + mask_id\n",
    "mask = imread(path_mask)\n",
    "mask = resize(mask, (IMG_HEIGHT, IMG_WIDTH), mode='constant', preserve_range=True)\n",
    "plt.imshow(mask, cmap='gray')\n",
    "plt.title('True Mask', fontsize=14)\n",
    "plt.axis('off')\n",
    "\n",
    "# predicted mask\n",
    "plt.subplot(3,3,3)\n",
    "test_mask = preds_test_thresh[1, :, :, 0]\n",
    "plt.imshow(test_mask, cmap='gray')\n",
    "plt.title('Pred Mask', fontsize=14)\n",
    "plt.axis('off')\n",
    "\n",
    "\n",
    "# == row 2 ==\n",
    "\n",
    "# image\n",
    "plt.subplot(3,3,4)\n",
    "test_image = X_test[2, :, :, 0]\n",
    "plt.imshow(test_image)\n",
    "plt.title('Test Image', fontsize=14)\n",
    "plt.axis('off')\n",
    "\n",
    "\n",
    "# true mask\n",
    "plt.subplot(3,3,5)\n",
    "mask_id = df_test.loc[2,'mask_id']\n",
    "path_mask = 'C:/Users/Phil/Desktop/Roads DataSet/road_segmentation_ideal/training/output/' + mask_id\n",
    "mask = imread(path_mask)\n",
    "mask = resize(mask, (IMG_HEIGHT, IMG_WIDTH), mode='constant', preserve_range=True)\n",
    "plt.imshow(mask, cmap='gray')\n",
    "plt.title('True Mask', fontsize=14)\n",
    "plt.axis('off')\n",
    "\n",
    "# predicted mask\n",
    "plt.subplot(3,3,6)\n",
    "test_mask = preds_test_thresh[2, :, :, 0]\n",
    "plt.imshow(test_mask, cmap='gray')\n",
    "plt.title('Pred Mask', fontsize=14)\n",
    "plt.axis('off')\n",
    "\n",
    "# == row 3 ==\n",
    "\n",
    "# image\n",
    "plt.subplot(3,3,7)\n",
    "test_image = X_test[3, :, :, 0]\n",
    "plt.imshow(test_image)\n",
    "plt.title('Test Image', fontsize=14)\n",
    "plt.axis('off')\n",
    "\n",
    "\n",
    "# true mask\n",
    "plt.subplot(3,3,8)\n",
    "mask_id = df_test.loc[3,'mask_id']\n",
    "path_mask = 'C:/Users/Phil/Desktop/Roads DataSet/road_segmentation_ideal/training/output/' + mask_id\n",
    "mask = imread(path_mask)\n",
    "mask = resize(mask, (IMG_HEIGHT, IMG_WIDTH), mode='constant', preserve_range=True)\n",
    "plt.imshow(mask, cmap='gray')\n",
    "plt.title('True Mask', fontsize=14)\n",
    "plt.axis('off')\n",
    "\n",
    "# predicted mask\n",
    "plt.subplot(3,3,9)\n",
    "test_mask = preds_test_thresh[3, :, :, 0]\n",
    "plt.imshow(test_mask, cmap='gray')\n",
    "plt.title('Pred Mask', fontsize=14)\n",
    "plt.axis('off')\n",
    "\n",
    "\n",
    "plt.tight_layout()\n",
    "plt.show()"
   ]
  },
  {
   "cell_type": "code",
   "execution_count": null,
   "id": "6c17c52d",
   "metadata": {},
   "outputs": [],
   "source": []
  }
 ],
 "metadata": {
  "kernelspec": {
   "display_name": "Python [conda env:deeplearning] *",
   "language": "python",
   "name": "conda-env-deeplearning-py"
  },
  "language_info": {
   "codemirror_mode": {
    "name": "ipython",
    "version": 3
   },
   "file_extension": ".py",
   "mimetype": "text/x-python",
   "name": "python",
   "nbconvert_exporter": "python",
   "pygments_lexer": "ipython3",
   "version": "3.7.10"
  }
 },
 "nbformat": 4,
 "nbformat_minor": 5
}
